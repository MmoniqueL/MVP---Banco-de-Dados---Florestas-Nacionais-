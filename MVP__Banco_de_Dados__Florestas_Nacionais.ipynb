{
  "nbformat": 4,
  "nbformat_minor": 0,
  "metadata": {
    "colab": {
      "provenance": [],
      "authorship_tag": "ABX9TyNGKGDpitTUGG6pGB8ShL32",
      "include_colab_link": true
    },
    "kernelspec": {
      "name": "python3",
      "display_name": "Python 3"
    },
    "language_info": {
      "name": "python"
    }
  },
  "cells": [
    {
      "cell_type": "markdown",
      "metadata": {
        "id": "view-in-github",
        "colab_type": "text"
      },
      "source": [
        "<a href=\"https://colab.research.google.com/github/MmoniqueL/MVP---Banco-de-Dados---Florestas-Nacionais-/blob/main/MVP__Banco_de_Dados__Florestas_Nacionais.ipynb\" target=\"_parent\"><img src=\"https://colab.research.google.com/assets/colab-badge.svg\" alt=\"Open In Colab\"/></a>"
      ]
    },
    {
      "cell_type": "markdown",
      "source": [
        "#1. Introdução\n",
        "\n",
        "Este trabalho aborda a elaboração  de um banco de dados eatrela na nuvem, a partir da coleta, modelagem do banco de dados no Microsoft  Azure e análise dos resultados obtidos.\n",
        "\n",
        "Os dados aqui utilizados são   sobre as áreas das florestas nacionais entre os anos de 1990 e 2024 e estão  disponíveis no site do SINFE (Sistema Nacionalde Informações Floestais). Os dados será  descritos na seção Dicionários  de Dados.\n",
        "\n",
        "A análise se concentrará em identificar tendências de desmatamento e os biomas mais afetados."
      ],
      "metadata": {
        "id": "4SJkkzEppYJl"
      }
    },
    {
      "cell_type": "markdown",
      "source": [
        "#2. Objetivos\n",
        "\n",
        "Os objetivos desse trabalho são:\n",
        "\n",
        "Coletar os dados de Florestas Nacionais disponíveis  online.\n",
        "\n",
        "Construir um banco de dados estrela no Microsof Azure.\n",
        "\n",
        "Extrair do banco de dados informações sobre a variação do desmatamento  ao longo dos anos e os biomas mais afetados"
      ],
      "metadata": {
        "id": "v5NnGRWuw8A4"
      }
    },
    {
      "cell_type": "markdown",
      "source": [
        "# 3. Coletas de dados\n",
        "\n",
        "Os dados sobre as Florestas Nacionais foram coletados  em formato .csv no site do SINFE, mantido pelo Serviço Florestal Brasileiro, o SINIF disponibiliza dados sobre áreas de vegetação nativa, desmatamento legal e ilegal, entre outros aspectos relacionados às florestas brasileiras.\n",
        "O conjunto de dados escolhidos  foi o de Florestas  Naturais Brasileiras, que contém dados estruturados sobre florestas naturais no Brasil, incluindo colunas para diferentes tipologias, biomas, categorias, anos e valores relacionados à área florestal."
      ],
      "metadata": {
        "id": "RN8huIf50pDz"
      }
    },
    {
      "cell_type": "markdown",
      "source": [
        "\n",
        "\n",
        "\n",
        "## 3.1 Dicionário  de Dados\n",
        "\n",
        "Tipologia_sigla: Sigla da tipologia florestal.\n",
        "\n",
        "Tipologia: Nome completo da tipologia florestal.\n",
        "\n",
        "Categoria: Categoria da florestal classificada de acordo  com o Sistema Florestal Brasileiro.\n",
        "\n",
        "cod_tipo: Código do tipo de categoria.\n",
        "\n",
        "cod_class: Código da classificação da categoria.\n",
        "\n",
        "Bioma: Nome do bioma.\n",
        "\n",
        "Preterita:Refeser-se à área pretérita da tipologia, sem considerar antropismos.\n",
        "\n",
        "1990 a 2024: Área  florestal dos respectivos  anos."
      ],
      "metadata": {
        "id": "h9YFQ1-Frm2T"
      }
    },
    {
      "cell_type": "markdown",
      "source": [
        "# 4.Modelagem do Banco de Dados\n",
        "\n",
        "Dado que a conjunto de dados não é excessivamente complexa e considerando que o objetivo é realizar consultas analíticas e relatórios, o esquema estrela foi escolhido. Ele oferece simplicidade, desempenho superior em consultas comuns e é mais fácil de implementar e manter.\n",
        "O esquema de banco de dados relacional  proposto  é esquema estrela consiste em uma tabela de fatos e tabelas dimensões que serão  criadas como descrito abaixo:\n",
        "\n",
        "Tabela de Fatos:\n",
        "FatoFlorestasColunas: id, Tipologia_id, Categoria_id, Bioma_id, Ano, Area\n",
        "\n",
        "Dimensões:\n",
        "DimTipologia: id, Tipologia_sigla, Tipologia\n",
        "DimCategoria: id, Categoria, cod_tipo, cod_class\n",
        "DimBioma: id, Bioma\n",
        "\n",
        "A tabela de fatos no contexto do banco de dados relacional sobre Florestas Naturais do Brasil contém medidas e métricas centrais do projeto. Vamos detalhar o significado de cada coluna na tabela de fatos `FatoFlorestas`:"
      ],
      "metadata": {
        "id": "7Hp_GxbRzoR6"
      }
    },
    {
      "cell_type": "markdown",
      "source": [
        "## 4.1 Tabelas de Dimensão\n",
        "\n",
        "As tabelas de dimensão contêm atributos descritivos (meta-dados) sobre as entidades. Para este exemplo, teremos as seguintes tabelas de dimensão.\n",
        "\n",
        "DimTipologia:Armazena informações sobre as diferentes tipologias florestais.\n",
        "\n",
        "id: Identificador único para cada tipologia.\n",
        "Tipologia_sigla: Sigla da tipologia.\n",
        "Tipologia: Nome completo da tipologia.\n",
        "\n",
        "DimCategoria: Armazena informações sobre as categorias de floresta.\n",
        "id: Identificador único para cada categoria.\n",
        "Categoria: Nome da categoria.\n",
        "cod_tipo: Código do tipo de categoria.\n",
        "cod_class: Código da classificação da categoria.\n",
        "\n",
        "DimBioma: Armazena informações sobre os biomas.\n",
        "\n",
        "id: Identificador único para cada bioma.\n",
        "Bioma: Nome do bioma."
      ],
      "metadata": {
        "id": "28lu_ZXVsT9O"
      }
    },
    {
      "cell_type": "markdown",
      "source": [
        "\n",
        "\n",
        "## 4.2 Tabela de fatos\n",
        "\n",
        "A tabela de fatos no contexto do banco de dados relacional sobre Florestas Naturais do Brasil contém medidas e métricas centrais do projeto. Abaixo estão detalhados o significado de cada coluna na tabela de fatos `FatoFlorestas`:\n",
        "\n",
        "### Tabela de Fatos: `FatoFlorestas`\n",
        "\n",
        "1. **id**\n",
        "   - **Descrição**: Identificador único para cada registro na tabela de fatos.\n",
        "   - **Função**: Serve como chave primária para garantir a unicidade de cada entrada na tabela. Facilita operações de gerenciamento de dados, como atualizações e exclusões.\n",
        "\n",
        "2. **Tipologia_id**\n",
        "   - **Descrição**: Referência à chave primária da tabela de dimensão `DimTipologia`.\n",
        "   - **Função**: Conecta a tabela de fatos com a tabela de dimensão que contém informações sobre a tipologia da floresta (tipologia e sigla da tipologia).\n",
        "\n",
        "3. **Categoria_id**\n",
        "   - **Descrição**: Referência à chave primária da tabela de dimensão `DimCategoria`.\n",
        "   - **Função**: Conecta a tabela de fatos com a tabela de dimensão que contém informações sobre a categoria da floresta (categoria, código de tipo e código de classe).\n",
        "\n",
        "4. **Bioma_id**\n",
        "   - **Descrição**: Referência à chave primária da tabela de dimensão `DimBioma`.\n",
        "   - **Função**: Conecta a tabela de fatos com a tabela de dimensão que contém informações sobre o bioma da floresta.\n",
        "\n",
        "5. **Ano**\n",
        "   - **Descrição**: O ano específico ao qual o registro se refere.\n",
        "   - **Função**: Permite a análise temporal dos dados, mostrando como as áreas florestais mudaram ao longo dos anos.\n",
        "\n",
        "6. **Area**\n",
        "   - **Descrição**: A área florestal medida para um determinado ano.\n",
        "   - **Função**: Representa a medida central dos dados na tabela de fatos. É a métrica que será analisada, permitindo a identificação de tendências e padrões de desmatamento ou recuperação de áreas florestais."
      ],
      "metadata": {
        "id": "wZOsP9_y-Ce2"
      }
    },
    {
      "cell_type": "markdown",
      "source": [
        "## 4.3 Criação do Banco de Dados\n",
        "\n",
        "O banco de dados foi criado no Microsoft Azure SQL Database usando linguagem SQL através da ferramenta Microsoft Data Studion. A seguir estão os passos detalhados para a criação do banco de dados:\n",
        "\n",
        "### Passos para Inserção dos Dados Usando SQL\n",
        "\n",
        "1. **Preparação do Ambiente**\n",
        "   - Acesso ao Microsoft Azure SQL Database.\n",
        "   - Utilizaçao do Azure Data Studio para se conectar ao banco de dados.\n",
        "\n",
        "2. **Criação das Tabelas de Dimensão e Tabela de Fatos**\n",
        "\n",
        "\n",
        "3. **Inserção dos Dados nas Tabelas de Dimensão**\n",
        "   \n",
        "   \n",
        "4. **Inserção dos Dados na Tabela de Fatos**"
      ],
      "metadata": {
        "id": "nPNq7J9FxI2W"
      }
    }
  ]
}